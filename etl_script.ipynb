{
 "cells": [
  {
   "cell_type": "markdown",
   "id": "79d7ff37",
   "metadata": {},
   "source": [
    "# Extraction Phase"
   ]
  },
  {
   "cell_type": "code",
   "execution_count": 14,
   "id": "7ce56ddd",
   "metadata": {},
   "outputs": [],
   "source": [
    "#Extract the data \n",
    "\n",
    "import json , csv\n",
    "from number_parser import parse\n",
    "from data_exploring import DataExploration\n",
    "\n",
    "# load movies_raw file\n",
    "\n",
    "def load_json_file(file_location):\n",
    "    with open(file_location , 'r') as file:\n",
    "        file_content = json.load(file)\n",
    "\n",
    "    return file_content\n",
    "\n",
    "\n",
    "def  load_csv_as_listOfDict(file_location , delim = ','):\n",
    "    data = []\n",
    "    with open(file_location ,'r' , newline='') as file:\n",
    "        content = csv.DictReader(file , delimiter=delim)\n",
    "        for row in content:\n",
    "            data.append(row)\n",
    "\n",
    "    return data\n",
    "\n",
    "\n",
    "movies = load_json_file('./movies_raw.json')\n",
    "users  = load_csv_as_listOfDict('./users_raw.csv')  \n",
    "ratings  = load_csv_as_listOfDict('./ratings_raw.csv')  \n",
    "\n",
    "    "
   ]
  },
  {
   "cell_type": "code",
   "execution_count": 15,
   "id": "675e369d",
   "metadata": {},
   "outputs": [
    {
     "name": "stdout",
     "output_type": "stream",
     "text": [
      "{'user_id': '1001', 'name': 'Erika', 'age': '14', 'country': 'EG'}\n",
      "<class 'str'>\n"
     ]
    }
   ],
   "source": [
    "#print(movies[0])\n",
    "print(users[0])\n",
    "print(type(ratings[0]['rating_id']))"
   ]
  },
  {
   "cell_type": "markdown",
   "id": "04e495c3",
   "metadata": {},
   "source": [
    "# Transformation Phase"
   ]
  },
  {
   "cell_type": "code",
   "execution_count": 16,
   "id": "ab004e26",
   "metadata": {},
   "outputs": [
    {
     "name": "stdout",
     "output_type": "stream",
     "text": [
      "user_id : <class 'str'>\n",
      "name : <class 'str'>\n",
      "age : <class 'str'>\n",
      "country : <class 'str'>\n",
      "rating_id : <class 'str'>\n",
      "user_id : <class 'str'>\n",
      "movie_id : <class 'str'>\n",
      "rating : <class 'str'>\n",
      "timestamp : <class 'str'>\n",
      "id : <class 'int'>\n",
      "title : <class 'str'>\n",
      "genre : <class 'str'>\n",
      "release_year : <class 'str'>\n"
     ]
    }
   ],
   "source": [
    "# Exploring Movies file\n",
    "\n",
    "#DataExploration.explore(users , 5)\n",
    "#DataExploration.explore(ratings , 5)\n",
    "\n",
    "# Exploring the data types\n",
    "\n",
    "DataExploration.explore_dict(users[0])\n",
    "DataExploration.explore_dict(ratings[0])\n",
    "DataExploration.explore_dict(movies[0])\n",
    "\n"
   ]
  },
  {
   "cell_type": "code",
   "execution_count": 17,
   "id": "48064795",
   "metadata": {},
   "outputs": [
    {
     "name": "stdout",
     "output_type": "stream",
     "text": [
      "{'missing_age': 63, 'missing_country': 16}\n",
      "{'missing_timestamp': 354, 'missing_rating': 178}\n",
      "{'missing_release_year': 62, 'missing_genre': 24}\n"
     ]
    }
   ],
   "source": [
    "# Data Checking \n",
    "\n",
    "users_stats = DataExploration.checking_missing_values(users)\n",
    "ratings_stats = DataExploration.checking_missing_values(ratings)\n",
    "movies_stats = DataExploration.checking_missing_values(movies)\n",
    "\n",
    "\n",
    "print(users_stats)\n",
    "print(ratings_stats)\n",
    "print(movies_stats)\n",
    "\n"
   ]
  },
  {
   "cell_type": "code",
   "execution_count": 18,
   "id": "9a7ed3ff",
   "metadata": {},
   "outputs": [
    {
     "name": "stdout",
     "output_type": "stream",
     "text": [
      "{}\n",
      "{}\n",
      "{}\n"
     ]
    }
   ],
   "source": [
    "\n",
    "# Data Cleaning for users data\n",
    "cleaned_users   = DataExploration.data_cleaning(users)\n",
    "cleaned_movies  = DataExploration.data_cleaning(movies)  \n",
    "cleaned_ratings = DataExploration.data_cleaning(ratings)\n",
    "\n",
    "\n",
    "print(DataExploration.checking_missing_values(cleaned_users))\n",
    "print(DataExploration.checking_missing_values(cleaned_movies))\n",
    "print(DataExploration.checking_missing_values(cleaned_ratings))\n",
    "\n"
   ]
  },
  {
   "cell_type": "markdown",
   "id": "2bf3d7cd",
   "metadata": {},
   "source": [
    "# Converting Invalid Data Types"
   ]
  },
  {
   "cell_type": "code",
   "execution_count": 19,
   "id": "3e656b86",
   "metadata": {},
   "outputs": [],
   "source": [
    "\n",
    "# Converting data  types of users data\n",
    "\n",
    "for user in cleaned_users:\n",
    "    user['user_id'] = int(user['user_id'])\n",
    "    user['age'] = int(user['age'])\n",
    "\n",
    "#print(cleaned_users[0])"
   ]
  },
  {
   "cell_type": "code",
   "execution_count": 20,
   "id": "def4bf5f",
   "metadata": {},
   "outputs": [],
   "source": [
    "#Converting Data types of movies data\n",
    "\n",
    "for movie in cleaned_movies:\n",
    "    \n",
    "    # Now year is cleaned, convert and assign\n",
    "    movie['release_year'] = DataExploration.parse_english_to_numbers(str(movie['release_year']).lower())  # Work on a local variable\n",
    "\n",
    "\n",
    "#cleaned_movies"
   ]
  },
  {
   "cell_type": "code",
   "execution_count": 21,
   "id": "6be2a2e8",
   "metadata": {},
   "outputs": [],
   "source": [
    "\n",
    "\n",
    "for rate in cleaned_ratings:\n",
    "    rate['rating'] = DataExploration.parse_english_to_numbers(str(rate['rating']).lower())\n",
    "\n",
    "\n",
    "\n",
    "# Drop any record have invalid rating t must be from (0 to 5)\n",
    "temp = []\n",
    "for rate in cleaned_ratings:\n",
    "    if  0<= rate['rating'] <= 5:\n",
    "        temp.append(rate)\n",
    "\n",
    "#print(len(cleaned_ratings))\n",
    "#cleaned_ratings = temp\n",
    "#print(len(cleaned_ratings))\n",
    "\n",
    "#cleaned_ratings"
   ]
  },
  {
   "cell_type": "markdown",
   "id": "2ccc788a",
   "metadata": {},
   "source": [
    "### Enhanced User / Movie Dict "
   ]
  },
  {
   "cell_type": "code",
   "execution_count": 22,
   "id": "641db176",
   "metadata": {},
   "outputs": [
    {
     "data": {
      "text/plain": [
       "{1001: {1001: {'user_id': 1001, 'name': 'Erika', 'age': 14, 'country': 'EG'}},\n",
       " 1003: {1003: {'user_id': 1003, 'name': 'Scott', 'age': 62, 'country': 'USA'}},\n",
       " 1007: {1007: {'user_id': 1007,\n",
       "   'name': 'Robert',\n",
       "   'age': 28,\n",
       "   'country': 'Germany'}},\n",
       " 1010: {1010: {'user_id': 1010,\n",
       "   'name': 'Cassandra',\n",
       "   'age': 40,\n",
       "   'country': 'EG'}},\n",
       " 1012: {1012: {'user_id': 1012,\n",
       "   'name': 'Brett',\n",
       "   'age': 42,\n",
       "   'country': 'France'}},\n",
       " 1013: {1013: {'user_id': 1013,\n",
       "   'name': 'Timothy',\n",
       "   'age': 28,\n",
       "   'country': 'USA'}},\n",
       " 1019: {1019: {'user_id': 1019,\n",
       "   'name': 'Christopher',\n",
       "   'age': 70,\n",
       "   'country': 'Germany'}},\n",
       " 1024: {1024: {'user_id': 1024,\n",
       "   'name': 'Christopher',\n",
       "   'age': 53,\n",
       "   'country': 'egypt'}},\n",
       " 1025: {1025: {'user_id': 1025,\n",
       "   'name': 'Renee',\n",
       "   'age': 41,\n",
       "   'country': 'Germany'}},\n",
       " 1026: {1026: {'user_id': 1026,\n",
       "   'name': 'Lisa',\n",
       "   'age': 31,\n",
       "   'country': 'egypt'}},\n",
       " 1028: {1028: {'user_id': 1028, 'name': 'Sarah', 'age': 18, 'country': 'EG'}},\n",
       " 1033: {1033: {'user_id': 1033,\n",
       "   'name': 'Christopher',\n",
       "   'age': 39,\n",
       "   'country': 'EG'}},\n",
       " 1037: {1037: {'user_id': 1037,\n",
       "   'name': 'Jennifer',\n",
       "   'age': 43,\n",
       "   'country': 'egypt'}},\n",
       " 1042: {1042: {'user_id': 1042,\n",
       "   'name': 'Thomas',\n",
       "   'age': 44,\n",
       "   'country': 'egypt'}},\n",
       " 1049: {1049: {'user_id': 1049,\n",
       "   'name': 'Jason',\n",
       "   'age': 55,\n",
       "   'country': 'Egypt'}},\n",
       " 1053: {1053: {'user_id': 1053,\n",
       "   'name': 'Rodney',\n",
       "   'age': 33,\n",
       "   'country': 'USA'}},\n",
       " 1057: {1057: {'user_id': 1057, 'name': 'John', 'age': 66, 'country': 'USA'}},\n",
       " 1062: {1062: {'user_id': 1062,\n",
       "   'name': 'Vincent',\n",
       "   'age': 14,\n",
       "   'country': 'EG'}},\n",
       " 1063: {1063: {'user_id': 1063,\n",
       "   'name': 'Amanda',\n",
       "   'age': 66,\n",
       "   'country': 'France'}},\n",
       " 1064: {1064: {'user_id': 1064,\n",
       "   'name': 'Crystal',\n",
       "   'age': 22,\n",
       "   'country': 'EG'}},\n",
       " 1066: {1066: {'user_id': 1066,\n",
       "   'name': 'Jennifer',\n",
       "   'age': 49,\n",
       "   'country': 'USA'}},\n",
       " 1068: {1068: {'user_id': 1068,\n",
       "   'name': 'Aaron',\n",
       "   'age': 36,\n",
       "   'country': 'France'}},\n",
       " 1070: {1070: {'user_id': 1070,\n",
       "   'name': 'Ashley',\n",
       "   'age': 20,\n",
       "   'country': 'egypt'}},\n",
       " 1074: {1074: {'user_id': 1074,\n",
       "   'name': 'Michael',\n",
       "   'age': 25,\n",
       "   'country': 'France'}},\n",
       " 1079: {1079: {'user_id': 1079,\n",
       "   'name': 'Andrew',\n",
       "   'age': 49,\n",
       "   'country': 'egypt'}},\n",
       " 1081: {1081: {'user_id': 1081,\n",
       "   'name': 'Bradley',\n",
       "   'age': 36,\n",
       "   'country': 'France'}},\n",
       " 1084: {1084: {'user_id': 1084, 'name': 'Julie', 'age': 44, 'country': 'USA'}},\n",
       " 1087: {1087: {'user_id': 1087,\n",
       "   'name': 'John',\n",
       "   'age': 40,\n",
       "   'country': 'Germany'}},\n",
       " 1093: {1093: {'user_id': 1093,\n",
       "   'name': 'Michael',\n",
       "   'age': 28,\n",
       "   'country': 'egypt'}},\n",
       " 1097: {1097: {'user_id': 1097, 'name': 'Gail', 'age': 34, 'country': 'USA'}},\n",
       " 1099: {1099: {'user_id': 1099,\n",
       "   'name': 'Timothy',\n",
       "   'age': 44,\n",
       "   'country': 'egypt'}}}"
      ]
     },
     "execution_count": 22,
     "metadata": {},
     "output_type": "execute_result"
    }
   ],
   "source": [
    "\n",
    "\n",
    "def identify_dict_records(dictList , dict_key):\n",
    "    \n",
    "    \"\"\"\n",
    "        accept list of dicts and transform it to dict it's key is the dict id\n",
    "        \n",
    "    \"\"\"\n",
    "\n",
    "    temp = {}\n",
    "    #print(key , type(key))\n",
    "    for record in dictList:\n",
    "        dict_record = {}\n",
    "        dict_record[record[str(dict_key)]] = record\n",
    "        temp[record[str(dict_key)]] = dict_record\n",
    "\n",
    "    return temp\n",
    "\n",
    "\n",
    "#Dict of users , movies\n",
    "cleaned_users = identify_dict_records(cleaned_users , list(cleaned_users[0].keys())[0])  \n",
    "cleaned_movies = identify_dict_records(cleaned_movies ,list(cleaned_movies[0].keys())[0])\n",
    "\n",
    "\n",
    "\n",
    "cleaned_users\n"
   ]
  },
  {
   "cell_type": "code",
   "execution_count": 23,
   "id": "07f208ca",
   "metadata": {},
   "outputs": [
    {
     "data": {
      "text/plain": [
       "dict"
      ]
     },
     "execution_count": 23,
     "metadata": {},
     "output_type": "execute_result"
    }
   ],
   "source": [
    "type(cleaned_users)\n"
   ]
  },
  {
   "cell_type": "code",
   "execution_count": 24,
   "id": "2511c757",
   "metadata": {},
   "outputs": [
    {
     "data": {
      "text/plain": [
       "['username',\n",
       " 'user_age',\n",
       " 'user_country',\n",
       " 'movie_title',\n",
       " 'movie_genre',\n",
       " 'rating']"
      ]
     },
     "execution_count": 24,
     "metadata": {},
     "output_type": "execute_result"
    }
   ],
   "source": [
    "\"\"\"\n",
    "    * Rating Details table *\n",
    "\n",
    "    username , user_age , user_county , movie_title , movie_genre , rating , date_of_rate , time_of_rate \n",
    "\"\"\"\n",
    "\n",
    "\n",
    "rating_details = []\n",
    "\n",
    "for rate in cleaned_ratings:\n",
    "    \n",
    "    # Check user forign Key exist in users data & Movie id also\n",
    "\n",
    "    \n",
    "    if cleaned_users.get(int(rate['user_id'])) is None or cleaned_movies.get(int(rate['movie_id'])) is None:\n",
    "        continue\n",
    "\n",
    "    rating_record = {}\n",
    "    user_details = cleaned_users[int(rate['user_id'])][int(rate['user_id'])]\n",
    "    movie_details = cleaned_movies[int(rate['movie_id'])][int(rate['movie_id'])]\n",
    "    rating_record['username'] = user_details['name']\n",
    "    rating_record['user_age'] = user_details['age']\n",
    "    rating_record['user_country'] = user_details['country']\n",
    "    rating_record['movie_title'] = movie_details['title']\n",
    "    rating_record['movie_genre'] = movie_details['genre']\n",
    "    rating_record['rating'] = rate['rating']\n",
    "    \n",
    "    rating_details.append(rating_record)\n",
    "\n",
    "\n",
    "list(rating_details[0].keys())\n",
    "\n"
   ]
  },
  {
   "cell_type": "markdown",
   "id": "eb38a343",
   "metadata": {},
   "source": [
    "# Load Phase into SQL Database"
   ]
  },
  {
   "cell_type": "code",
   "execution_count": 25,
   "id": "5a76c350",
   "metadata": {},
   "outputs": [
    {
     "ename": "TypeError",
     "evalue": "DatabaseConnection.write_dictList_to_database() missing 1 required positional argument: 'dictList'",
     "output_type": "error",
     "traceback": [
      "\u001b[31m---------------------------------------------------------------------------\u001b[39m",
      "\u001b[31mTypeError\u001b[39m                                 Traceback (most recent call last)",
      "\u001b[36mCell\u001b[39m\u001b[36m \u001b[39m\u001b[32mIn[25]\u001b[39m\u001b[32m, line 3\u001b[39m\n\u001b[32m      1\u001b[39m \u001b[38;5;28;01mfrom\u001b[39;00m\u001b[38;5;250m \u001b[39m\u001b[34;01mdatabase_connection\u001b[39;00m\u001b[38;5;250m \u001b[39m\u001b[38;5;28;01mimport\u001b[39;00m DatabaseConnection\n\u001b[32m----> \u001b[39m\u001b[32m3\u001b[39m \u001b[43mDatabaseConnection\u001b[49m\u001b[43m.\u001b[49m\u001b[43mwrite_dictList_to_database\u001b[49m\u001b[43m(\u001b[49m\u001b[43mrating_details\u001b[49m\u001b[43m)\u001b[49m\n",
      "\u001b[31mTypeError\u001b[39m: DatabaseConnection.write_dictList_to_database() missing 1 required positional argument: 'dictList'"
     ]
    }
   ],
   "source": [
    "\n",
    "from database_connection import DatabaseConnection\n",
    "\n",
    "DatabaseConnection.write_dictList_to_database(rating_details)\n",
    "\n"
   ]
  },
  {
   "cell_type": "code",
   "execution_count": null,
   "id": "532671a7",
   "metadata": {},
   "outputs": [],
   "source": []
  },
  {
   "cell_type": "code",
   "execution_count": null,
   "id": "afbf588a",
   "metadata": {},
   "outputs": [],
   "source": []
  }
 ],
 "metadata": {
  "kernelspec": {
   "display_name": "Python 3",
   "language": "python",
   "name": "python3"
  },
  "language_info": {
   "codemirror_mode": {
    "name": "ipython",
    "version": 3
   },
   "file_extension": ".py",
   "mimetype": "text/x-python",
   "name": "python",
   "nbconvert_exporter": "python",
   "pygments_lexer": "ipython3",
   "version": "3.13.3"
  }
 },
 "nbformat": 4,
 "nbformat_minor": 5
}
